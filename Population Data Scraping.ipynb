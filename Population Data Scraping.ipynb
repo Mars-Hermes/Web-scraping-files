{
 "cells": [
  {
   "cell_type": "code",
   "execution_count": 1,
   "id": "e6c7b6a7",
   "metadata": {},
   "outputs": [],
   "source": [
    "import requests\n",
    "from bs4 import BeautifulSoup\n",
    "import pandas as pd"
   ]
  },
  {
   "cell_type": "code",
   "execution_count": 2,
   "id": "07a911cc",
   "metadata": {},
   "outputs": [],
   "source": [
    "url = 'https://www.worldometers.info/world-population/population-by-country/'"
   ]
  },
  {
   "cell_type": "code",
   "execution_count": 3,
   "id": "a5b54e66",
   "metadata": {},
   "outputs": [],
   "source": [
    "response = requests.get(url)\n",
    "soup = BeautifulSoup(response.text, 'html.parser')"
   ]
  },
  {
   "cell_type": "code",
   "execution_count": 4,
   "id": "3c4a8fa0",
   "metadata": {},
   "outputs": [],
   "source": [
    "rows = soup.find('table',{'id':'example2'}).find('tbody').find_all('tr')"
   ]
  },
  {
   "cell_type": "code",
   "execution_count": 5,
   "id": "303177b9",
   "metadata": {},
   "outputs": [
    {
     "name": "stdout",
     "output_type": "stream",
     "text": [
      "234\n"
     ]
    }
   ],
   "source": [
    "print(len(rows))"
   ]
  },
  {
   "cell_type": "code",
   "execution_count": 6,
   "id": "a8ceb393",
   "metadata": {},
   "outputs": [],
   "source": [
    "countries_list = []"
   ]
  },
  {
   "cell_type": "code",
   "execution_count": 7,
   "id": "502243ab",
   "metadata": {},
   "outputs": [],
   "source": [
    "for row in rows:\n",
    "    Hermes = {}   \n",
    "    Hermes['Country'] = row.find_all('td')[1].text\n",
    "    Hermes['Population 2023'] = row.find_all('td')[2].text\n",
    "    Hermes['Yearly_Change'] = row.find_all('td')[3].text\n",
    "    Hermes['Net_Change'] = row.find_all('td')[4].text\n",
    "    Hermes['Density'] = row.find_all('td')[5].text\n",
    "    Hermes['Land_Area'] = row.find_all('td')[6].text\n",
    "    Hermes['Migrants'] = row.find_all('td')[7].text\n",
    "    Hermes['Fertiity_Rate'] = row.find_all('td')[8].text\n",
    "    Hermes['Med_Age'] = row.find_all('td')[9].text\n",
    "    Hermes['Urban_Population'] = row.find_all('td')[10].text\n",
    "    Hermes['World_Share'] = row.find_all('td')[11].text\n",
    "    countries_list.append(Hermes)"
   ]
  },
  {
   "cell_type": "code",
   "execution_count": 8,
   "id": "90769440",
   "metadata": {},
   "outputs": [
    {
     "name": "stdout",
     "output_type": "stream",
     "text": [
      "{'Country': 'Brazil', 'Population 2023': '216,422,446', 'Yearly_Change': '0.52 %', 'Net_Change': '1,108,948', 'Density': '26', 'Land_Area': '8,358,140', 'Migrants': '6,000', 'Fertiity_Rate': '1.6', 'Med_Age': '34', 'Urban_Population': '88 %', 'World_Share': '2.69 %'}\n"
     ]
    }
   ],
   "source": [
    "print(countries_list[6])"
   ]
  },
  {
   "cell_type": "code",
   "execution_count": 9,
   "id": "bbd08759",
   "metadata": {},
   "outputs": [],
   "source": [
    "df = pd.DataFrame(countries_list)"
   ]
  },
  {
   "cell_type": "code",
   "execution_count": 49,
   "id": "d5f148ff",
   "metadata": {},
   "outputs": [],
   "source": [
    "df.to_csv('Population_2023.csv', index= False )"
   ]
  },
  {
   "cell_type": "code",
   "execution_count": null,
   "id": "78a721b0",
   "metadata": {},
   "outputs": [],
   "source": []
  }
 ],
 "metadata": {
  "kernelspec": {
   "display_name": "Python 3 (ipykernel)",
   "language": "python",
   "name": "python3"
  },
  "language_info": {
   "codemirror_mode": {
    "name": "ipython",
    "version": 3
   },
   "file_extension": ".py",
   "mimetype": "text/x-python",
   "name": "python",
   "nbconvert_exporter": "python",
   "pygments_lexer": "ipython3",
   "version": "3.10.9"
  }
 },
 "nbformat": 4,
 "nbformat_minor": 5
}
